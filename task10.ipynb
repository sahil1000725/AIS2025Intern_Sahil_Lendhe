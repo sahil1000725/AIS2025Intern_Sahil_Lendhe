{
 "cells": [
  {
   "cell_type": "markdown",
   "id": "d03c2080-67cd-4e97-9ca6-c32201c16d36",
   "metadata": {},
   "source": [
    "#  Decision Tree"
   ]
  },
  {
   "cell_type": "code",
   "execution_count": 2,
   "id": "6720bb37-448c-4d47-a9f3-45703f3e7b3d",
   "metadata": {},
   "outputs": [
    {
     "name": "stdout",
     "output_type": "stream",
     "text": [
      "Entropy Model:\n",
      "Accuracy: 0.9777777777777777, Precision: 0.9793650793650793, Recall: 0.9777777777777777\n",
      "GINI Model:\n",
      "Accuracy: 1.0, Precision: 1.0, Recall: 1.0\n"
     ]
    }
   ],
   "source": [
    "from sklearn.tree import DecisionTreeClassifier\n",
    "from sklearn.model_selection import train_test_split\n",
    "from sklearn.metrics import accuracy_score, precision_score, recall_score\n",
    "from sklearn import datasets\n",
    "# Load Iris dataset\n",
    "iris = datasets.load_iris()\n",
    "X = iris.data\n",
    "y = iris.target\n",
    "X_train, X_test, y_train, y_test = train_test_split(X, y, test_size=0.3, random_state=42)\n",
    "# Using Entropy (Information Gain)\n",
    "clf_entropy = DecisionTreeClassifier(criterion='entropy', random_state=42)\n",
    "clf_entropy.fit(X_train, y_train)\n",
    "\n",
    "# Using GINI Index\n",
    "clf_gini = DecisionTreeClassifier(criterion='gini', random_state=42)\n",
    "clf_gini.fit(X_train, y_train)\n",
    "y_pred_entropy = clf_entropy.predict(X_test)\n",
    "y_pred_gini = clf_gini.predict(X_test)\n",
    "# Accuracy\n",
    "accuracy_entropy = accuracy_score(y_test, y_pred_entropy)\n",
    "accuracy_gini = accuracy_score(y_test, y_pred_gini)\n",
    "\n",
    "# Precision\n",
    "precision_entropy = precision_score(y_test, y_pred_entropy, average='weighted')\n",
    "precision_gini = precision_score(y_test, y_pred_gini, average='weighted')\n",
    "\n",
    "# Recall\n",
    "recall_entropy = recall_score(y_test, y_pred_entropy, average='weighted')\n",
    "recall_gini = recall_score(y_test, y_pred_gini, average='weighted')\n",
    "\n",
    "print(\"Entropy Model:\")\n",
    "print(f\"Accuracy: {accuracy_entropy}, Precision: {precision_entropy}, Recall: {recall_entropy}\")\n",
    "\n",
    "print(\"GINI Model:\")\n",
    "print(f\"Accuracy: {accuracy_gini}, Precision: {precision_gini}, Recall: {recall_gini}\")"
   ]
  },
  {
   "cell_type": "code",
   "execution_count": null,
   "id": "ce6dba19-ae3f-4a3d-9b24-cc40774ec208",
   "metadata": {},
   "outputs": [],
   "source": []
  }
 ],
 "metadata": {
  "kernelspec": {
   "display_name": "Python 3 (ipykernel)",
   "language": "python",
   "name": "python3"
  },
  "language_info": {
   "codemirror_mode": {
    "name": "ipython",
    "version": 3
   },
   "file_extension": ".py",
   "mimetype": "text/x-python",
   "name": "python",
   "nbconvert_exporter": "python",
   "pygments_lexer": "ipython3",
   "version": "3.12.7"
  }
 },
 "nbformat": 4,
 "nbformat_minor": 5
}
