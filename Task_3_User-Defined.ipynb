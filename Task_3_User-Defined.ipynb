{
 "cells": [
  {
   "cell_type": "markdown",
   "id": "22cea97b-9033-4b89-b6c8-93b987dd4ab4",
   "metadata": {},
   "source": [
    "# Task_3 : User Defined Function"
   ]
  },
  {
   "cell_type": "markdown",
   "id": "7513d408-00e6-4563-a4ca-2a507d4a7fcb",
   "metadata": {},
   "source": [
    "### 1. Write a Python function to find the maximum of from given "
   ]
  },
  {
   "cell_type": "code",
   "execution_count": 66,
   "id": "f2a3f895-2c2d-43a2-8748-64e2b6ffb601",
   "metadata": {},
   "outputs": [
    {
     "data": {
      "text/plain": [
       "199"
      ]
     },
     "execution_count": 66,
     "metadata": {},
     "output_type": "execute_result"
    }
   ],
   "source": [
    "scores = [150, 142, 185, 120, 171, 184, 149, 24, 59, 68, 199, 78, 65, 89, 86, 55, 91, 64, 89]\n",
    "def max(scores):\n",
    "    a=0\n",
    "    for i in scores:\n",
    "        if i > a:\n",
    "            a=i\n",
    "    return a\n",
    "max(scores)"
   ]
  },
  {
   "cell_type": "markdown",
   "id": "95b8582d-5b57-45b4-918d-2e7f8c2f088c",
   "metadata": {},
   "source": [
    "### 2. Write a Python function to sum all the numbers in a list.  Sample List : [8, 2, 3, 0, 7] Expected Output : 20 "
   ]
  },
  {
   "cell_type": "code",
   "execution_count": 27,
   "id": "364b69c1-ee56-4b0a-842c-04a1ea29dd4c",
   "metadata": {},
   "outputs": [
    {
     "name": "stdout",
     "output_type": "stream",
     "text": [
      "Sum of all elements in list is 20\n"
     ]
    }
   ],
   "source": [
    "def sum(list):\n",
    "    sum = 0\n",
    "    for num in list:\n",
    "        sum += num\n",
    "    return print(\"Sum of all elements in list is\",sum)\n",
    "\n",
    "list = [8, 2, 3, 0, 7]\n",
    "\n",
    "sum(list)"
   ]
  },
  {
   "cell_type": "markdown",
   "id": "a65d70a0-c107-4bb6-ace6-ca0bb1b6021d",
   "metadata": {},
   "source": [
    "### 3. Write a Python function that takes a list and returns a new list with distinct elements from the first list.  Sample List : [1,2,3,3,3,3,4,5] Unique List : [1, 2, 3, 4, 5]"
   ]
  },
  {
   "cell_type": "code",
   "execution_count": 34,
   "id": "afe3b9db-9739-4cb4-a365-a78ad072e718",
   "metadata": {},
   "outputs": [
    {
     "name": "stdout",
     "output_type": "stream",
     "text": [
      "{1, 2, 3, 4, 5}\n"
     ]
    }
   ],
   "source": [
    "a= [1,2,3,3,3,3,4,5]\n",
    "#b=[]\n",
    "def new_list(a):\n",
    "    b=[]\n",
    "    b=(set(a))\n",
    "    print(b)\n",
    "new_list(a)"
   ]
  },
  {
   "cell_type": "markdown",
   "id": "ef939915-8dcb-48ab-99d7-daec2646aa2d",
   "metadata": {},
   "source": [
    "### 4. Write a Python function total number of  Combinations"
   ]
  },
  {
   "cell_type": "code",
   "execution_count": 45,
   "id": "e86c1bc1-087d-4913-aa30-0521e20f8893",
   "metadata": {},
   "outputs": [
    {
     "name": "stdout",
     "output_type": "stream",
     "text": [
      "enter the numbers 1234\n"
     ]
    },
    {
     "name": "stdout",
     "output_type": "stream",
     "text": [
      "1 2 3 1 2\n",
      "1 2 3 1 3\n",
      "1 2 3 1 4\n",
      "1 2 3 2 1\n",
      "1 2 3 2 3\n",
      "1 2 3 2 4\n",
      "1 2 3 3 1\n",
      "1 2 3 3 2\n",
      "1 2 3 3 4\n",
      "1 2 3 4 1\n",
      "1 2 3 4 2\n",
      "1 2 3 4 3\n",
      "1 2 4 1 2\n",
      "1 2 4 1 3\n",
      "1 2 4 1 4\n",
      "1 2 4 2 1\n",
      "1 2 4 2 3\n",
      "1 2 4 2 4\n",
      "1 2 4 3 1\n",
      "1 2 4 3 2\n",
      "1 2 4 3 4\n",
      "1 2 4 4 1\n",
      "1 2 4 4 2\n",
      "1 2 4 4 3\n",
      "1 3 2 1 2\n",
      "1 3 2 1 3\n",
      "1 3 2 1 4\n",
      "1 3 2 2 1\n",
      "1 3 2 2 3\n",
      "1 3 2 2 4\n",
      "1 3 2 3 1\n",
      "1 3 2 3 2\n",
      "1 3 2 3 4\n",
      "1 3 2 4 1\n",
      "1 3 2 4 2\n",
      "1 3 2 4 3\n",
      "1 3 4 1 2\n",
      "1 3 4 1 3\n",
      "1 3 4 1 4\n",
      "1 3 4 2 1\n",
      "1 3 4 2 3\n",
      "1 3 4 2 4\n",
      "1 3 4 3 1\n",
      "1 3 4 3 2\n",
      "1 3 4 3 4\n",
      "1 3 4 4 1\n",
      "1 3 4 4 2\n",
      "1 3 4 4 3\n",
      "1 4 2 1 2\n",
      "1 4 2 1 3\n",
      "1 4 2 1 4\n",
      "1 4 2 2 1\n",
      "1 4 2 2 3\n",
      "1 4 2 2 4\n",
      "1 4 2 3 1\n",
      "1 4 2 3 2\n",
      "1 4 2 3 4\n",
      "1 4 2 4 1\n",
      "1 4 2 4 2\n",
      "1 4 2 4 3\n",
      "1 4 3 1 2\n",
      "1 4 3 1 3\n",
      "1 4 3 1 4\n",
      "1 4 3 2 1\n",
      "1 4 3 2 3\n",
      "1 4 3 2 4\n",
      "1 4 3 3 1\n",
      "1 4 3 3 2\n",
      "1 4 3 3 4\n",
      "1 4 3 4 1\n",
      "1 4 3 4 2\n",
      "1 4 3 4 3\n",
      "2 1 3 1 2\n",
      "2 1 3 1 3\n",
      "2 1 3 1 4\n",
      "2 1 3 2 1\n",
      "2 1 3 2 3\n",
      "2 1 3 2 4\n",
      "2 1 3 3 1\n",
      "2 1 3 3 2\n",
      "2 1 3 3 4\n",
      "2 1 3 4 1\n",
      "2 1 3 4 2\n",
      "2 1 3 4 3\n",
      "2 1 4 1 2\n",
      "2 1 4 1 3\n",
      "2 1 4 1 4\n",
      "2 1 4 2 1\n",
      "2 1 4 2 3\n",
      "2 1 4 2 4\n",
      "2 1 4 3 1\n",
      "2 1 4 3 2\n",
      "2 1 4 3 4\n",
      "2 1 4 4 1\n",
      "2 1 4 4 2\n",
      "2 1 4 4 3\n",
      "2 3 1 1 2\n",
      "2 3 1 1 3\n",
      "2 3 1 1 4\n",
      "2 3 1 2 1\n",
      "2 3 1 2 3\n",
      "2 3 1 2 4\n",
      "2 3 1 3 1\n",
      "2 3 1 3 2\n",
      "2 3 1 3 4\n",
      "2 3 1 4 1\n",
      "2 3 1 4 2\n",
      "2 3 1 4 3\n",
      "2 3 4 1 2\n",
      "2 3 4 1 3\n",
      "2 3 4 1 4\n",
      "2 3 4 2 1\n",
      "2 3 4 2 3\n",
      "2 3 4 2 4\n",
      "2 3 4 3 1\n",
      "2 3 4 3 2\n",
      "2 3 4 3 4\n",
      "2 3 4 4 1\n",
      "2 3 4 4 2\n",
      "2 3 4 4 3\n",
      "2 4 1 1 2\n",
      "2 4 1 1 3\n",
      "2 4 1 1 4\n",
      "2 4 1 2 1\n",
      "2 4 1 2 3\n",
      "2 4 1 2 4\n",
      "2 4 1 3 1\n",
      "2 4 1 3 2\n",
      "2 4 1 3 4\n",
      "2 4 1 4 1\n",
      "2 4 1 4 2\n",
      "2 4 1 4 3\n",
      "2 4 3 1 2\n",
      "2 4 3 1 3\n",
      "2 4 3 1 4\n",
      "2 4 3 2 1\n",
      "2 4 3 2 3\n",
      "2 4 3 2 4\n",
      "2 4 3 3 1\n",
      "2 4 3 3 2\n",
      "2 4 3 3 4\n",
      "2 4 3 4 1\n",
      "2 4 3 4 2\n",
      "2 4 3 4 3\n",
      "3 1 2 1 2\n",
      "3 1 2 1 3\n",
      "3 1 2 1 4\n",
      "3 1 2 2 1\n",
      "3 1 2 2 3\n",
      "3 1 2 2 4\n",
      "3 1 2 3 1\n",
      "3 1 2 3 2\n",
      "3 1 2 3 4\n",
      "3 1 2 4 1\n",
      "3 1 2 4 2\n",
      "3 1 2 4 3\n",
      "3 1 4 1 2\n",
      "3 1 4 1 3\n",
      "3 1 4 1 4\n",
      "3 1 4 2 1\n",
      "3 1 4 2 3\n",
      "3 1 4 2 4\n",
      "3 1 4 3 1\n",
      "3 1 4 3 2\n",
      "3 1 4 3 4\n",
      "3 1 4 4 1\n",
      "3 1 4 4 2\n",
      "3 1 4 4 3\n",
      "3 2 1 1 2\n",
      "3 2 1 1 3\n",
      "3 2 1 1 4\n",
      "3 2 1 2 1\n",
      "3 2 1 2 3\n",
      "3 2 1 2 4\n",
      "3 2 1 3 1\n",
      "3 2 1 3 2\n",
      "3 2 1 3 4\n",
      "3 2 1 4 1\n",
      "3 2 1 4 2\n",
      "3 2 1 4 3\n",
      "3 2 4 1 2\n",
      "3 2 4 1 3\n",
      "3 2 4 1 4\n",
      "3 2 4 2 1\n",
      "3 2 4 2 3\n",
      "3 2 4 2 4\n",
      "3 2 4 3 1\n",
      "3 2 4 3 2\n",
      "3 2 4 3 4\n",
      "3 2 4 4 1\n",
      "3 2 4 4 2\n",
      "3 2 4 4 3\n",
      "3 4 1 1 2\n",
      "3 4 1 1 3\n",
      "3 4 1 1 4\n",
      "3 4 1 2 1\n",
      "3 4 1 2 3\n",
      "3 4 1 2 4\n",
      "3 4 1 3 1\n",
      "3 4 1 3 2\n",
      "3 4 1 3 4\n",
      "3 4 1 4 1\n",
      "3 4 1 4 2\n",
      "3 4 1 4 3\n",
      "3 4 2 1 2\n",
      "3 4 2 1 3\n",
      "3 4 2 1 4\n",
      "3 4 2 2 1\n",
      "3 4 2 2 3\n",
      "3 4 2 2 4\n",
      "3 4 2 3 1\n",
      "3 4 2 3 2\n",
      "3 4 2 3 4\n",
      "3 4 2 4 1\n",
      "3 4 2 4 2\n",
      "3 4 2 4 3\n",
      "4 1 2 1 2\n",
      "4 1 2 1 3\n",
      "4 1 2 1 4\n",
      "4 1 2 2 1\n",
      "4 1 2 2 3\n",
      "4 1 2 2 4\n",
      "4 1 2 3 1\n",
      "4 1 2 3 2\n",
      "4 1 2 3 4\n",
      "4 1 2 4 1\n",
      "4 1 2 4 2\n",
      "4 1 2 4 3\n",
      "4 1 3 1 2\n",
      "4 1 3 1 3\n",
      "4 1 3 1 4\n",
      "4 1 3 2 1\n",
      "4 1 3 2 3\n",
      "4 1 3 2 4\n",
      "4 1 3 3 1\n",
      "4 1 3 3 2\n",
      "4 1 3 3 4\n",
      "4 1 3 4 1\n",
      "4 1 3 4 2\n",
      "4 1 3 4 3\n",
      "4 2 1 1 2\n",
      "4 2 1 1 3\n",
      "4 2 1 1 4\n",
      "4 2 1 2 1\n",
      "4 2 1 2 3\n",
      "4 2 1 2 4\n",
      "4 2 1 3 1\n",
      "4 2 1 3 2\n",
      "4 2 1 3 4\n",
      "4 2 1 4 1\n",
      "4 2 1 4 2\n",
      "4 2 1 4 3\n",
      "4 2 3 1 2\n",
      "4 2 3 1 3\n",
      "4 2 3 1 4\n",
      "4 2 3 2 1\n",
      "4 2 3 2 3\n",
      "4 2 3 2 4\n",
      "4 2 3 3 1\n",
      "4 2 3 3 2\n",
      "4 2 3 3 4\n",
      "4 2 3 4 1\n",
      "4 2 3 4 2\n",
      "4 2 3 4 3\n",
      "4 3 1 1 2\n",
      "4 3 1 1 3\n",
      "4 3 1 1 4\n",
      "4 3 1 2 1\n",
      "4 3 1 2 3\n",
      "4 3 1 2 4\n",
      "4 3 1 3 1\n",
      "4 3 1 3 2\n",
      "4 3 1 3 4\n",
      "4 3 1 4 1\n",
      "4 3 1 4 2\n",
      "4 3 1 4 3\n",
      "4 3 2 1 2\n",
      "4 3 2 1 3\n",
      "4 3 2 1 4\n",
      "4 3 2 2 1\n",
      "4 3 2 2 3\n",
      "4 3 2 2 4\n",
      "4 3 2 3 1\n",
      "4 3 2 3 2\n",
      "4 3 2 3 4\n",
      "4 3 2 4 1\n",
      "4 3 2 4 2\n",
      "4 3 2 4 3\n"
     ]
    }
   ],
   "source": [
    "def comb(L):\n",
    "    n = len(L)\n",
    "    for i in range(n): \n",
    "        for j in range(n): \n",
    "            for k in range(n):  \n",
    "                for l in range(n):\n",
    "                    for m in range(n):\n",
    "                        if (i!=j and j!=k and i!=k and n!=m and m!=l): \n",
    "                            print(L[i], L[j], L[k], L[l], L[m])\n",
    "comb(input(\"enter the numbers\"))"
   ]
  },
  {
   "cell_type": "markdown",
   "id": "fa13c04e-4961-45c0-a3e9-811e3041e91b",
   "metadata": {},
   "source": [
    "### 5. Write a Python function total number of  permutation \n",
    "Ex. a,b,c\n",
    "And: 6 : ab,ac,ba,bc,ca,cb"
   ]
  },
  {
   "cell_type": "code",
   "execution_count": 58,
   "id": "d0bd7efe-4ce3-4a0c-82b6-f46d8d56ceeb",
   "metadata": {},
   "outputs": [
    {
     "name": "stdout",
     "output_type": "stream",
     "text": [
      "['abc', 'acb', 'bac', 'bca', 'cab', 'cba']\n"
     ]
    }
   ],
   "source": [
    "import itertools\n",
    "\n",
    "\n",
    "def permutation(s):\n",
    "    li = [''.join(p) for p in itertools.permutations(s)]\n",
    "    return print(li)\n",
    "s = (\"a\",\"b\",\"c\")\n",
    "permutation(s)\n",
    "    \n"
   ]
  },
  {
   "cell_type": "markdown",
   "id": "1a029589-c019-4f36-816a-e3c0cdf8bb39",
   "metadata": {},
   "source": [
    "### 6. Define a function which counts vowels and consonant in a word.\n",
    "  input :  statistics \n",
    "Expected output : Count of vowel is = 3 Count of consonant is = 7"
   ]
  },
  {
   "cell_type": "code",
   "execution_count": 61,
   "id": "50408296-461e-40d0-956e-574d3f935e71",
   "metadata": {},
   "outputs": [
    {
     "name": "stdout",
     "output_type": "stream",
     "text": [
      "Enter a word asd\n"
     ]
    },
    {
     "name": "stdout",
     "output_type": "stream",
     "text": [
      "Count of vowels is = 1\n",
      "Count of consonants is = 2\n",
      "Count of vowels is = 3\n",
      "Count of consonants is = 7\n"
     ]
    }
   ],
   "source": [
    "def alphabets(word):\n",
    "    vowels=\"aeiouAEIOU\"\n",
    "    vowel_count=0\n",
    "    consonant_count=0\n",
    "    for char in word:\n",
    "        if char in vowels:\n",
    "            vowel_count+=1\n",
    "        else:\n",
    "            consonant_count+=1\n",
    "    print(f\"Count of vowels is = {vowel_count}\")\n",
    "    print(f\"Count of consonants is = {consonant_count}\")\n",
    "    \n",
    "word = input(\"Enter a word\")\n",
    "alphabets(word)\n",
    "alphabets(\"statistics\")\n"
   ]
  },
  {
   "cell_type": "markdown",
   "id": "205dcc58-3843-4cd4-abf3-91ec4cf0e3f4",
   "metadata": {},
   "source": [
    "### 7. Define a function that accepts lowercase words and returns uppercase words.\n",
    " Input:= statistics \n",
    "Expected output  Result is = STATISTICS"
   ]
  },
  {
   "cell_type": "code",
   "execution_count": 77,
   "id": "601559cc-c5fb-4f85-af89-f99d16ba8c2f",
   "metadata": {},
   "outputs": [
    {
     "name": "stdout",
     "output_type": "stream",
     "text": [
      "Enter a word   wasd\n"
     ]
    },
    {
     "data": {
      "text/plain": [
       "'WASD'"
      ]
     },
     "execution_count": 77,
     "metadata": {},
     "output_type": "execute_result"
    }
   ],
   "source": [
    "def uppercase(word):\n",
    "    return word.upper()\n",
    "word = input(\"Enter a word  \")\n",
    "uppercase(word)"
   ]
  },
  {
   "cell_type": "markdown",
   "id": "1c7cc628-e6a0-429f-a32f-3b193fd4f88f",
   "metadata": {},
   "source": [
    "### 8. count lower case and upper case  letter.\n",
    "Ex : STatiStiCS\n",
    "Ans: upper case :5\n",
    "Lower case: 5"
   ]
  },
  {
   "cell_type": "code",
   "execution_count": 76,
   "id": "2e428fd5-7a27-4f03-a6d1-4d31c161ef8e",
   "metadata": {},
   "outputs": [
    {
     "name": "stdout",
     "output_type": "stream",
     "text": [
      "Count of Lower-Case is = 5\n",
      "Count of Upper-Case is = 5\n"
     ]
    }
   ],
   "source": [
    "def counting(word):\n",
    "    lower_count=0\n",
    "    upper_count=0\n",
    "    for char in word:\n",
    "        if char.islower():\n",
    "            lower_count+=1\n",
    "        else:\n",
    "            upper_count+=1\n",
    "    print(f\"Count of Lower-Case is = {lower_count}\")\n",
    "    print(f\"Count of Upper-Case is = {upper_count}\")\n",
    "\n",
    "counting(\"STatiStiCS\")"
   ]
  }
 ],
 "metadata": {
  "kernelspec": {
   "display_name": "Python 3 (ipykernel)",
   "language": "python",
   "name": "python3"
  },
  "language_info": {
   "codemirror_mode": {
    "name": "ipython",
    "version": 3
   },
   "file_extension": ".py",
   "mimetype": "text/x-python",
   "name": "python",
   "nbconvert_exporter": "python",
   "pygments_lexer": "ipython3",
   "version": "3.10.11"
  }
 },
 "nbformat": 4,
 "nbformat_minor": 5
}
