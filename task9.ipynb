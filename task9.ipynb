{
 "cells": [
  {
   "cell_type": "code",
   "execution_count": null,
   "id": "bc7d642f-2f36-46b9-994d-4ddbf711d23b",
   "metadata": {},
   "outputs": [],
   "source": []
  },
  {
   "cell_type": "code",
   "execution_count": 3,
   "id": "a105c016-d6d3-4737-8e2b-0594ac8d2dea",
   "metadata": {},
   "outputs": [],
   "source": [
    "import seaborn as sns\n",
    "import matplotlib.pyplot as plt\n",
    "from sklearn.datasets import load_iris\n",
    "from sklearn.model_selection import train_test_split\n"
   ]
  },
  {
   "cell_type": "code",
   "execution_count": 8,
   "id": "3a870346-a6dd-4e19-a868-644571b5ba34",
   "metadata": {},
   "outputs": [
    {
     "name": "stdout",
     "output_type": "stream",
     "text": [
      "shape of x_train (120, 4)\n",
      "shape of x_test (30, 4)\n",
      "shape of y_train (120,)\n",
      "shape of y_test (30,)\n"
     ]
    }
   ],
   "source": [
    "import pandas as pd\n",
    "import seaborn as sns\n",
    "import matplotlib.pyplot as plt\n",
    "from sklearn.datasets import load_iris\n",
    "from sklearn.model_selection import train_test_split\n",
    "iris=load_iris()\n",
    "x=iris.data # Independent Variables (Features)\n",
    "y=iris.target # Dependent Variable (Target)\n",
    "x_train,x_test,y_train,y_test=train_test_split(x,y,test_size=0.2,random_state=101) # train  test split(80:20)\n",
    "\n",
    "print(\"shape of x_train\",x_train.shape)\n",
    "\n",
    "print(\"shape of x_test\",x_test.shape)\n",
    "\n",
    "print(\"shape of y_train\",y_train.shape)\n",
    "\n",
    "print(\"shape of y_test\",y_test.shape)\n",
    "\n"
   ]
  },
  {
   "cell_type": "code",
   "execution_count": 10,
   "id": "0a965bec-df34-401c-8fda-62eee087be03",
   "metadata": {},
   "outputs": [
    {
     "name": "stdout",
     "output_type": "stream",
     "text": [
      "output classes: ['setosa' 'versicolor' 'virginica']\n"
     ]
    }
   ],
   "source": [
    "output_names=iris.target_names\n",
    "print(\"output classes:\",output_names)"
   ]
  },
  {
   "cell_type": "code",
   "execution_count": 5,
   "id": "0747f2d9-35cb-42c4-a560-22e09b6f20e8",
   "metadata": {},
   "outputs": [
    {
     "name": "stdout",
     "output_type": "stream",
     "text": [
      "Independent Variables (X):\n",
      "   Feature1  Feature2\n",
      "0         1         6\n",
      "1         2         7\n",
      "2         3         8\n",
      "3         4         9\n",
      "4         5        10\n",
      "\n",
      "Dependent Variable (y):\n",
      "0        Setosa\n",
      "1    Versicolor\n",
      "2     Virginica\n",
      "3        Setosa\n",
      "4    Versicolor\n",
      "Name: Species, dtype: object\n"
     ]
    }
   ],
   "source": [
    "import pandas as pd\n",
    "\n",
    "data = {\n",
    "    'Feature1': [1, 2, 3, 4, 5],\n",
    "    'Feature2': [6, 7, 8, 9, 10],\n",
    "    'Species': ['Setosa', 'Versicolor', 'Virginica', 'Setosa', 'Versicolor']\n",
    "}\n",
    "df = pd.DataFrame(data)\n",
    "\n",
    "X = df.iloc[:, :-1]\n",
    "\n",
    "# Dependent variable (the last column)\n",
    "y = df.iloc[:, -1]  # The last column (usually the target variable, like species)\n",
    "\n",
    "# Output the first few rows of X and y to verify\n",
    "print(\"Independent Variables (X):\")\n",
    "print(X.head())\n",
    "\n",
    "print(\"\\nDependent Variable (y):\")\n",
    "print(y.head())\n"
   ]
  },
  {
   "cell_type": "code",
   "execution_count": null,
   "id": "1cc465d9-2020-477c-b2d9-11302264b106",
   "metadata": {},
   "outputs": [],
   "source": []
  },
  {
   "cell_type": "markdown",
   "id": "20f71896-cc9b-4abf-9edd-e19b0f901f24",
   "metadata": {},
   "source": [
    "# •import naive bays \n",
    "(GaussianNB ,bernoulliNB, MultinationalNB)\n"
   ]
  },
  {
   "cell_type": "code",
   "execution_count": 1,
   "id": "e530956d-be4f-4470-b1d4-449b43c9dd1e",
   "metadata": {},
   "outputs": [
    {
     "name": "stdout",
     "output_type": "stream",
     "text": [
      "GaussianNB Accuracy: 0.9666666666666667\n",
      "BernoulliNB Accuracy: 0.26666666666666666\n",
      "MultinomialNB Accuracy: 0.9\n"
     ]
    }
   ],
   "source": [
    "import pandas as pd\n",
    "import seaborn as sns\n",
    "import matplotlib.pyplot as plt\n",
    "from sklearn.datasets import load_iris\n",
    "from sklearn.model_selection import train_test_split\n",
    "from sklearn.naive_bayes import GaussianNB, BernoulliNB, MultinomialNB\n",
    "from sklearn.metrics import accuracy_score\n",
    "\n",
    "# Load Iris dataset\n",
    "iris = load_iris()\n",
    "\n",
    "# Independent Variables (Features)\n",
    "X = iris.data  # Sepal length, Sepal width, Petal length, Petal width\n",
    "\n",
    "# Dependent Variable (Target)\n",
    "y = iris.target  # Species classification\n",
    "\n",
    "# Split into 80% train, 20% test\n",
    "X_train, X_test, y_train, y_test = train_test_split(X, y, test_size=0.2, random_state=101)\n",
    "\n",
    "# Initialize Naïve Bayes models\n",
    "gnb = GaussianNB()\n",
    "bnb = BernoulliNB()\n",
    "mnb = MultinomialNB()\n",
    "\n",
    "# Train and evaluate GaussianNB\n",
    "gnb.fit(X_train, y_train)\n",
    "y_pred_gnb = gnb.predict(X_test)\n",
    "print(\"GaussianNB Accuracy:\", accuracy_score(y_test, y_pred_gnb))\n",
    "\n",
    "# Train and evaluate BernoulliNB\n",
    "bnb.fit(X_train, y_train)\n",
    "y_pred_bnb = bnb.predict(X_test)\n",
    "print(\"BernoulliNB Accuracy:\", accuracy_score(y_test, y_pred_bnb))\n",
    "\n",
    "# Train and evaluate MultinomialNB\n",
    "mnb.fit(X_train, y_train)\n",
    "y_pred_mnb = mnb.predict(X_test)\n",
    "print(\"MultinomialNB Accuracy:\", accuracy_score(y_test, y_pred_mnb))\n"
   ]
  },
  {
   "cell_type": "code",
   "execution_count": null,
   "id": "33fee5a9-00c8-42f0-a196-6563fc7c0492",
   "metadata": {},
   "outputs": [],
   "source": []
  }
 ],
 "metadata": {
  "kernelspec": {
   "display_name": "base",
   "language": "python",
   "name": "python3"
  },
  "language_info": {
   "codemirror_mode": {
    "name": "ipython",
    "version": 3
   },
   "file_extension": ".py",
   "mimetype": "text/x-python",
   "name": "python",
   "nbconvert_exporter": "python",
   "pygments_lexer": "ipython3",
   "version": "3.12.7"
  }
 },
 "nbformat": 4,
 "nbformat_minor": 5
}
